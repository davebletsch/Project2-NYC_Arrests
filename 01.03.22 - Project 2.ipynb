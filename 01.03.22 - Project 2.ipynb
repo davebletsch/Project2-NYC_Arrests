{
  "nbformat": 4,
  "nbformat_minor": 0,
  "metadata": {
    "colab": {
      "provenance": []
    },
    "kernelspec": {
      "name": "python3",
      "display_name": "Python 3"
    },
    "language_info": {
      "name": "python"
    }
  },
  "cells": [
    {
      "cell_type": "markdown",
      "source": [
        "#Project 2 - Arrest Data"
      ],
      "metadata": {
        "id": "K8SVIjgCROpx"
      }
    },
    {
      "cell_type": "markdown",
      "source": [
        "####Analyze NYPD arrest data:\n",
        "1. **Pick a subset of total dataset (ZIP code, neighborhood, district, etc.)**\n",
        "  \n",
        "  114th Precinct in Astoria/Woodside\n",
        "2. **Pick a feature**\n",
        "  \n",
        "  Age\n",
        "3. **Compare to a different entity**\n",
        "  \n",
        "  Frequency of arrests year-over-year\n",
        "\n",
        "\n",
        "Include:\n",
        "- descriptive statistics\n",
        "- data cleaning\n",
        "- visualizations\n"
      ],
      "metadata": {
        "id": "_30KybSF2jdc"
      }
    },
    {
      "cell_type": "markdown",
      "source": [
        "###Imports"
      ],
      "metadata": {
        "id": "6lQvkAhI3o5_"
      }
    },
    {
      "cell_type": "code",
      "source": [
        "import pandas as pd\n",
        "import numpy as np\n",
        "import matplotlib.pyplot as plt\n",
        "import seaborn as sns\n",
        "%matplotlib inline"
      ],
      "metadata": {
        "id": "ZmLLAcv5RWKp"
      },
      "execution_count": 2,
      "outputs": []
    },
    {
      "cell_type": "code",
      "execution_count": 3,
      "metadata": {
        "id": "tRzWUaJ75sMr"
      },
      "outputs": [],
      "source": [
        "# Crime data URL\n",
        "url = 'https://data.cityofnewyork.us/Public-Safety/NYPD-Arrest-Data-Year-to-Date-/uip8-fykc'"
      ]
    },
    {
      "cell_type": "code",
      "source": [
        "# Importing data filtered from above website\n",
        "# NOTE: Pre-filtered data before importing in order to decrease the size of the .csv files.\n",
        "#       All .csv files include data from the 114th precinct in Queens (the precicnt that serves my neighborhood).\n",
        "df_2019 = pd.read_csv('/content/drive/MyDrive/07 - LaGuardia ACE Data Analytics/02 - Python for Data Analytics - Fall 2022 A/misc/Project2 - Data/NYPD_Arrests_2019.csv')\n",
        "df_2020 = pd.read_csv('/content/drive/MyDrive/07 - LaGuardia ACE Data Analytics/02 - Python for Data Analytics - Fall 2022 A/misc/Project2 - Data/NYPD_Arrests_2020.csv')\n",
        "df_2021 = pd.read_csv('/content/drive/MyDrive/07 - LaGuardia ACE Data Analytics/02 - Python for Data Analytics - Fall 2022 A/misc/Project2 - Data/NYPD_Arrests_2021.csv')\n",
        "df_2022 = pd.read_csv('/content/drive/MyDrive/07 - LaGuardia ACE Data Analytics/02 - Python for Data Analytics - Fall 2022 A/misc/Project2 - Data/NYPD_Arrests_Year_to_Date_2022.csv')"
      ],
      "metadata": {
        "id": "_nGleNQ25qG4"
      },
      "execution_count": 4,
      "outputs": []
    },
    {
      "cell_type": "markdown",
      "source": [
        "###Data Cleaning"
      ],
      "metadata": {
        "id": "VDrY1BT03teT"
      }
    },
    {
      "cell_type": "code",
      "source": [
        "# Columns match; seemingly big differences in number of arrests reported each year (2022 is only 9 months)\n",
        "print(f'2019: {df_2019.shape}\\n2020: {df_2020.shape}\\n2021: {df_2021.shape}\\n2022: {df_2022.shape}')"
      ],
      "metadata": {
        "colab": {
          "base_uri": "https://localhost:8080/"
        },
        "id": "CveVDirxPWU5",
        "outputId": "9a344977-6451-47a9-8fc0-d0e5ab5212fe"
      },
      "execution_count": 5,
      "outputs": [
        {
          "output_type": "stream",
          "name": "stdout",
          "text": [
            "2019: (3566, 19)\n",
            "2020: (2659, 19)\n",
            "2021: (3462, 19)\n",
            "2022: (3023, 19)\n"
          ]
        }
      ]
    },
    {
      "cell_type": "code",
      "source": [
        "list(df_2019.columns)\n",
        "\n",
        "# Field names and explanations from dataset documentation:\n",
        "\n",
        "# ARREST_KEY        = Unique ID\n",
        "# ARREST_DATE       = date of reported event\n",
        "# PD_CD             = internal classification code (granular)\n",
        "# PD_DESC           = description of corresponding code\n",
        "# KY_CD             = internal classification code (general)\n",
        "# OFNS_DESC         = description of corresponding code\n",
        "# LAW_CODE          = NYS Penal Law classification code\n",
        "# LAW_CAT_CD        = level of offense (felony, misdemeanor, violation)\n",
        "# ARREST_BORO       = prefiltered - Q(Queens) only\n",
        "# ARREST_PRECINCT   = prefiltered - 114\n",
        "# JURISDICTION_CODE = NYPD Jurisdictions (0-Patrol, 1-Transit, 2-Housing), Non-NYPD (3+)\n",
        "# AGE_GROUP         = perpetrator's age\n",
        "# PERP_SEX          = perpetrator's gender\n",
        "# PERP_RACE         = perpetrator's race description\n",
        "# X_COORD_CD        = NYS Plane Coordinate System\n",
        "# Y_COORD_CD        = NYS Plane Coordinate System\n",
        "# Latitude          = GCS, WGS 1984\n",
        "# Longitude         = GCS, WGS 1984\n",
        "# Lon_Lat           = concatenation of the previous 2 features"
      ],
      "metadata": {
        "colab": {
          "base_uri": "https://localhost:8080/"
        },
        "id": "M8igiPsz1S4_",
        "outputId": "957473c6-9d6b-47a1-b0bc-611991361d32"
      },
      "execution_count": 6,
      "outputs": [
        {
          "output_type": "execute_result",
          "data": {
            "text/plain": [
              "['ARREST_KEY',\n",
              " 'ARREST_DATE',\n",
              " 'PD_CD',\n",
              " 'PD_DESC',\n",
              " 'KY_CD',\n",
              " 'OFNS_DESC',\n",
              " 'LAW_CODE',\n",
              " 'LAW_CAT_CD',\n",
              " 'ARREST_BORO',\n",
              " 'ARREST_PRECINCT',\n",
              " 'JURISDICTION_CODE',\n",
              " 'AGE_GROUP',\n",
              " 'PERP_SEX',\n",
              " 'PERP_RACE',\n",
              " 'X_COORD_CD',\n",
              " 'Y_COORD_CD',\n",
              " 'Latitude',\n",
              " 'Longitude',\n",
              " 'Lon_Lat']"
            ]
          },
          "metadata": {},
          "execution_count": 6
        }
      ]
    },
    {
      "cell_type": "code",
      "source": [
        "# Created a list to loop through for repetitive tasks for each df\n",
        "dfs = [df_2019, df_2020, df_2021, df_2022]"
      ],
      "metadata": {
        "id": "FFD4qHXD9UOi"
      },
      "execution_count": 7,
      "outputs": []
    },
    {
      "cell_type": "code",
      "source": [
        "# Drop redundant columns\n",
        "for df in dfs:\n",
        "  df.drop(['ARREST_BORO', 'ARREST_PRECINCT', 'Latitude', 'Longitude'], axis=1, inplace=True)"
      ],
      "metadata": {
        "id": "EdcJILCl9hTV"
      },
      "execution_count": 8,
      "outputs": []
    },
    {
      "cell_type": "code",
      "source": [
        "# Verify\n",
        "df_2019.info()"
      ],
      "metadata": {
        "colab": {
          "base_uri": "https://localhost:8080/"
        },
        "id": "BjzxveEp-BEM",
        "outputId": "7eba2347-01bd-4dea-8972-86166437b5fc"
      },
      "execution_count": 9,
      "outputs": [
        {
          "output_type": "stream",
          "name": "stdout",
          "text": [
            "<class 'pandas.core.frame.DataFrame'>\n",
            "RangeIndex: 3566 entries, 0 to 3565\n",
            "Data columns (total 15 columns):\n",
            " #   Column             Non-Null Count  Dtype  \n",
            "---  ------             --------------  -----  \n",
            " 0   ARREST_KEY         3566 non-null   int64  \n",
            " 1   ARREST_DATE        3566 non-null   object \n",
            " 2   PD_CD              3566 non-null   int64  \n",
            " 3   PD_DESC            3563 non-null   object \n",
            " 4   KY_CD              3563 non-null   float64\n",
            " 5   OFNS_DESC          3563 non-null   object \n",
            " 6   LAW_CODE           3566 non-null   object \n",
            " 7   LAW_CAT_CD         3546 non-null   object \n",
            " 8   JURISDICTION_CODE  3566 non-null   int64  \n",
            " 9   AGE_GROUP          3566 non-null   object \n",
            " 10  PERP_SEX           3566 non-null   object \n",
            " 11  PERP_RACE          3566 non-null   object \n",
            " 12  X_COORD_CD         3566 non-null   int64  \n",
            " 13  Y_COORD_CD         3566 non-null   int64  \n",
            " 14  Lon_Lat            3566 non-null   object \n",
            "dtypes: float64(1), int64(5), object(9)\n",
            "memory usage: 418.0+ KB\n"
          ]
        }
      ]
    },
    {
      "cell_type": "markdown",
      "source": [
        "####Key Feature - Age Group\n",
        "I'm curious to see if the pandemic caused a spike in arrests of school-aged kids (in this case, the 1-18 y/o age group)\n",
        "\n",
        "**Hypothesis:** The pandemic caused a huge disruption in the routine of NYC school kids resulting in an increase in serious arrests (compared to pre-pandemic numbers)."
      ],
      "metadata": {
        "id": "yPxN2jIQ3DIJ"
      }
    },
    {
      "cell_type": "code",
      "source": [
        "df_2019['AGE_GROUP'].value_counts().sort_index()\n",
        "# Let's move the last group into it's sequential position (at the top)"
      ],
      "metadata": {
        "colab": {
          "base_uri": "https://localhost:8080/"
        },
        "id": "JcOcrIDl_CR0",
        "outputId": "8d31c45d-1a08-4820-f56f-7e6ff48e3072"
      },
      "execution_count": 10,
      "outputs": [
        {
          "output_type": "execute_result",
          "data": {
            "text/plain": [
              "18-24     769\n",
              "25-44    2051\n",
              "45-64     574\n",
              "65+        48\n",
              "<18       124\n",
              "Name: AGE_GROUP, dtype: int64"
            ]
          },
          "metadata": {},
          "execution_count": 10
        }
      ]
    },
    {
      "cell_type": "code",
      "source": [
        "# Renaming '<18' to '1-18'\n",
        "for df in dfs:\n",
        "  df['AGE_GROUP'].replace('<18', '1-18', inplace=True)"
      ],
      "metadata": {
        "id": "W3DBNT35_SYD"
      },
      "execution_count": 11,
      "outputs": []
    },
    {
      "cell_type": "code",
      "source": [
        "# Verify\n",
        "for df in dfs:\n",
        "  print(df.AGE_GROUP.value_counts().sort_index())"
      ],
      "metadata": {
        "colab": {
          "base_uri": "https://localhost:8080/"
        },
        "id": "S8MGJz_tA_9h",
        "outputId": "9a7c526d-4b43-486c-ac2b-ce6efea59d4e"
      },
      "execution_count": 12,
      "outputs": [
        {
          "output_type": "stream",
          "name": "stdout",
          "text": [
            "1-18      124\n",
            "18-24     769\n",
            "25-44    2051\n",
            "45-64     574\n",
            "65+        48\n",
            "Name: AGE_GROUP, dtype: int64\n",
            "1-18       50\n",
            "18-24     551\n",
            "25-44    1502\n",
            "45-64     521\n",
            "65+        35\n",
            "Name: AGE_GROUP, dtype: int64\n",
            "1-18       47\n",
            "18-24     677\n",
            "25-44    2029\n",
            "45-64     674\n",
            "65+        35\n",
            "Name: AGE_GROUP, dtype: int64\n",
            "1-18       73\n",
            "18-24     534\n",
            "25-44    1890\n",
            "45-64     491\n",
            "65+        35\n",
            "Name: AGE_GROUP, dtype: int64\n"
          ]
        }
      ]
    },
    {
      "cell_type": "code",
      "source": [
        "# Filter out less serious traffic arrests (include only misdemeanors and felonies)\n",
        "df_2019_serious = df_2019[(df_2019['LAW_CAT_CD'] == 'M') | (df_2019['LAW_CAT_CD'] == 'F')]\n",
        "df_2020_serious = df_2020[(df_2020['LAW_CAT_CD'] == 'M') | (df_2020['LAW_CAT_CD'] == 'F')]\n",
        "df_2021_serious = df_2021[(df_2021['LAW_CAT_CD'] == 'M') | (df_2021['LAW_CAT_CD'] == 'F')]\n",
        "df_2022_serious = df_2022[(df_2022['LAW_CAT_CD'] == 'M') | (df_2022['LAW_CAT_CD'] == 'F')]"
      ],
      "metadata": {
        "id": "gpcoiOpNOcne"
      },
      "execution_count": 13,
      "outputs": []
    },
    {
      "cell_type": "markdown",
      "source": [
        "This is one area where I may be introducing **bias**. By only looking at the serious arrests, I could be giving more weight to this data, which might narrow our view of the original dataset.\n",
        "\n",
        "In reality, this filtering didn't remove many records compared to the original dataset, so I believe this amount of bias is negligible."
      ],
      "metadata": {
        "id": "f4oNWVet4CN4"
      }
    },
    {
      "cell_type": "code",
      "source": [
        "# Create a new list of 'serious' dataframes to loop over\n",
        "dfs_serious = {'df_2019_serious':df_2019_serious, 'df_2020_serious':df_2020_serious, \n",
        "               'df_2021_serious':df_2021_serious, 'df_2022_serious':df_2022_serious}"
      ],
      "metadata": {
        "id": "2Cm9Ct4oQzY4"
      },
      "execution_count": 14,
      "outputs": []
    },
    {
      "cell_type": "code",
      "source": [
        "# Number of serious arrests by year in the 114th precinct\n",
        "for df in dfs_serious:\n",
        "  print(dfs_serious[df].shape[0])"
      ],
      "metadata": {
        "colab": {
          "base_uri": "https://localhost:8080/"
        },
        "id": "eJBAspFiQLI5",
        "outputId": "32a35b15-2634-4329-bf51-e78bc45ded5a"
      },
      "execution_count": 15,
      "outputs": [
        {
          "output_type": "stream",
          "name": "stdout",
          "text": [
            "3468\n",
            "2609\n",
            "3426\n",
            "2962\n"
          ]
        }
      ]
    },
    {
      "cell_type": "code",
      "source": [
        "# FOR REFERENCE: total number of arrests by year in the 114th precinct\n",
        "for df in dfs:\n",
        "  print(df.shape[0])"
      ],
      "metadata": {
        "colab": {
          "base_uri": "https://localhost:8080/"
        },
        "id": "OBtwUj_GW5dH",
        "outputId": "e8010bfe-5349-4adb-f6d9-367950bba4b9"
      },
      "execution_count": 16,
      "outputs": [
        {
          "output_type": "stream",
          "name": "stdout",
          "text": [
            "3566\n",
            "2659\n",
            "3462\n",
            "3023\n"
          ]
        }
      ]
    },
    {
      "cell_type": "markdown",
      "source": [
        "###Descriptive Statistics"
      ],
      "metadata": {
        "id": "tg4X1yMuBG8M"
      }
    },
    {
      "cell_type": "code",
      "source": [
        "# Combined data from all 4 years in order to generate descriptive stats\n",
        "serious = pd.concat(dfs_serious)\n",
        "arrests = pd.concat(dfs)"
      ],
      "metadata": {
        "id": "ZI_u050OOLdI"
      },
      "execution_count": 67,
      "outputs": []
    },
    {
      "cell_type": "code",
      "source": [
        "serious.shape\n",
        "# almost 12,500 misdemeanor + felony arrests"
      ],
      "metadata": {
        "colab": {
          "base_uri": "https://localhost:8080/"
        },
        "id": "CM2w7fM0HDFk",
        "outputId": "ee11b831-895b-410d-a9d3-b6d4acd73680"
      },
      "execution_count": 19,
      "outputs": [
        {
          "output_type": "execute_result",
          "data": {
            "text/plain": [
              "(12465, 16)"
            ]
          },
          "metadata": {},
          "execution_count": 19
        }
      ]
    },
    {
      "cell_type": "code",
      "source": [
        "# Add a 'YEAR' column\n",
        "serious['YEAR'] = serious['ARREST_DATE'].str.strip().str[-4:].astype(int)"
      ],
      "metadata": {
        "id": "S-2teQ1aGyCT"
      },
      "execution_count": 72,
      "outputs": []
    },
    {
      "cell_type": "code",
      "source": [
        "# Used count of 'ARREST_KEY' as it is a unique identifier\n",
        "avg_serious_arrests_per_year = serious.groupby(['YEAR'])['ARREST_KEY'].count().mean()\n",
        "avg_serious_arrests_per_year"
      ],
      "metadata": {
        "colab": {
          "base_uri": "https://localhost:8080/"
        },
        "id": "paEtm01Jup6-",
        "outputId": "81aeb86e-6988-40d6-f15d-d9afb7723e32"
      },
      "execution_count": 77,
      "outputs": [
        {
          "output_type": "execute_result",
          "data": {
            "text/plain": [
              "3116.25"
            ]
          },
          "metadata": {},
          "execution_count": 77
        }
      ]
    },
    {
      "cell_type": "code",
      "source": [
        "serious.groupby(['YEAR'])['ARREST_KEY'].count()\n",
        "# 2019, 2021, 2022(proj) above average number of arrests; however, 2020 is clearly an outlier"
      ],
      "metadata": {
        "colab": {
          "base_uri": "https://localhost:8080/"
        },
        "id": "Vn_AIFnx1CCh",
        "outputId": "ffd035da-60fb-44db-f2cf-99ec2212bcc6"
      },
      "execution_count": 78,
      "outputs": [
        {
          "output_type": "execute_result",
          "data": {
            "text/plain": [
              "YEAR\n",
              "2019    3468\n",
              "2020    2609\n",
              "2021    3426\n",
              "2022    2962\n",
              "Name: ARREST_KEY, dtype: int64"
            ]
          },
          "metadata": {},
          "execution_count": 78
        }
      ]
    },
    {
      "cell_type": "code",
      "source": [
        "# Median would put less weight on the pandemic year (2020)\n",
        "median_serious_arrests_per_year = serious.groupby(['YEAR'])['ARREST_KEY'].count().median()\n",
        "median_serious_arrests_per_year\n",
        "# Not much change from mean to median"
      ],
      "metadata": {
        "colab": {
          "base_uri": "https://localhost:8080/"
        },
        "id": "Xo5Uh_2n1jRG",
        "outputId": "5e8cf88b-2d9e-43ef-d0de-fcc2d10311f5"
      },
      "execution_count": 80,
      "outputs": [
        {
          "output_type": "execute_result",
          "data": {
            "text/plain": [
              "3194.0"
            ]
          },
          "metadata": {},
          "execution_count": 80
        }
      ]
    },
    {
      "cell_type": "markdown",
      "source": [
        "###Visualizations"
      ],
      "metadata": {
        "id": "BcLM87xVDCOb"
      }
    },
    {
      "cell_type": "code",
      "source": [
        "# Show the year-over-year change in serious arrests by age group\n",
        "sns.set(style=\"darkgrid\")\n",
        "plt.title('114 Precinct Arrests by Age')\n",
        "plt.xlabel('Age Group')\n",
        "plt.ylabel('Arrests')\n",
        "sns.histplot(data=serious, x='AGE_GROUP', hue='YEAR', multiple='dodge', shrink=.8);"
      ],
      "metadata": {
        "colab": {
          "base_uri": "https://localhost:8080/",
          "height": 301
        },
        "id": "3i7CFSAJFWeq",
        "outputId": "08e2f349-c641-456f-aba0-041979073a51"
      },
      "execution_count": 21,
      "outputs": [
        {
          "output_type": "display_data",
          "data": {
            "text/plain": [
              "<Figure size 432x288 with 1 Axes>"
            ],
            "image/png": "[encoded data removed]"
          },
          "metadata": {}
        }
      ]
    },
    {
      "cell_type": "code",
      "source": [
        "# Filter the 'serious' df to only include the youngest age group\n",
        "youth_serious = serious[serious['AGE_GROUP'] == '1-18']"
      ],
      "metadata": {
        "id": "k2nxDcQVqrgG"
      },
      "execution_count": 22,
      "outputs": []
    },
    {
      "cell_type": "code",
      "source": [
        "# 'Zoom' in on only the youngest age group to show the relatively dramatic increase from 2021 > 2022\n",
        "sns.set(style=\"darkgrid\")\n",
        "plt.title('114th Precinct Youth Arrests by Year')\n",
        "plt.ylabel('Arrests')\n",
        "ax = sns.histplot(data=youth_serious, x='AGE_GROUP', hue='YEAR', multiple='dodge');\n",
        "ax.axes.xaxis.set_ticklabels([])\n",
        "ax.set(xlabel=None)\n",
        "plt.show()"
      ],
      "metadata": {
        "colab": {
          "base_uri": "https://localhost:8080/",
          "height": 270
        },
        "id": "HtcTM3GfrGYR",
        "outputId": "28e95d71-b1ab-4b6a-b918-0ac68d35d9b9"
      },
      "execution_count": 55,
      "outputs": [
        {
          "output_type": "display_data",
          "data": {
            "text/plain": [
              "<Figure size 432x288 with 1 Axes>"
            ],
            "image/png": "[encoded data removed]"
          },
          "metadata": {}
        }
      ]
    },
    {
      "cell_type": "markdown",
      "source": [
        "###**Conclusion:**"
      ],
      "metadata": {
        "id": "cWweiFEGl8_M"
      }
    },
    {
      "cell_type": "markdown",
      "source": [
        "As expected, there was a big decrease in arrests year-over-year from 2019 to 2020. However, arrest numbers climbed back up to be consistent with pre-pandemic levels in most age groups except the youngest and oldest. \n",
        "\n",
        "Furthermore, considering we only have data for 3/4 of 2022, the fact that the number of arrests for those under 18yo is already higher than 2021 numbers indicates that there was seemingly an increase in serious criminal activity among this age group after the pandemic."
      ],
      "metadata": {
        "id": "qf4px1KRbDSx"
      }
    },
    {
      "cell_type": "markdown",
      "source": [
        "###Future plans:\n",
        "1. I'd like to incorporate the data from the final quarter of 2022.\n",
        "\n",
        "  (I could even use linear regression to extrapolate and predict the final number of arrests based on the data from the first 3/4 of the year.)\n",
        "\n",
        "2. Going forward, I could produce descriptive stats for all arrests in NYC, and compare with the aggregate data for the 114th precinct.\n",
        "\n",
        "3. Investigate if there are any trends in arrests by suspect's race. Compare this with the race breakdown of the police officers assigned to the 114th precinct (if that data is even available)."
      ],
      "metadata": {
        "id": "x1tVA0mU2P8Q"
      }
    }
  ]
}